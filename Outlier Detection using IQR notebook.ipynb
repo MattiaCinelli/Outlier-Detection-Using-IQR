{
 "cells": [
  {
   "cell_type": "code",
   "execution_count": 36,
   "metadata": {},
   "outputs": [],
   "source": [
    "import pandas as pd\n",
    "import numpy as np\n",
    "import seaborn as sns\n",
    "import matplotlib.pyplot as plt\n",
    "%matplotlib inline"
   ]
  },
  {
   "cell_type": "code",
   "execution_count": 35,
   "metadata": {},
   "outputs": [
    {
     "data": {
      "text/plain": [
       "Text(0.5, 1.0, 'Box and Whisker Diagram')"
      ]
     },
     "execution_count": 35,
     "metadata": {},
     "output_type": "execute_result"
    },
    {
     "data": {
      "image/png": "[encoded data removed]",
      "text/plain": [
       "<Figure size 432x288 with 1 Axes>"
      ]
     },
     "metadata": {
      "needs_background": "light"
     },
     "output_type": "display_data"
    }
   ],
   "source": [
    "arr = [1, 2, 3, 50, 49, 50, 57, 56, 54, 53, 45, 50, 60, 54, 57, 54, 100, 101, 102]\n",
    "\n",
    "fig, ax = plt.subplots()\n",
    "\n",
    "ax = sns.boxplot(arr, palette= 'colorblind')\n",
    "ax.set_title('Box and Whisker Diagram')"
   ]
  },
  {
   "cell_type": "code",
   "execution_count": 4,
   "metadata": {},
   "outputs": [],
   "source": [
    "arr = pd.Series(arr)\n",
    "\n",
    "# 25th percentile and 75th percentile\n",
    "q1 = arr.quantile(q= 0.25)\n",
    "q3 = arr.quantile(q= 0.75)\n",
    "\n",
    "# Interquartile Range\n",
    "iqr = q3 - q1\n",
    "\n",
    "# Left and Right Bounds (Min/Max)\n",
    "left_bound_min = q1 - 1.5*iqr\n",
    "right_bound_max = q3 + 1.5*iqr"
   ]
  },
  {
   "cell_type": "code",
   "execution_count": 6,
   "metadata": {},
   "outputs": [
    {
     "data": {
      "text/plain": [
       "<matplotlib.axes._subplots.AxesSubplot at 0x214a2099c08>"
      ]
     },
     "execution_count": 6,
     "metadata": {},
     "output_type": "execute_result"
    },
    {
     "data": {
      "image/png": "[encoded data removed]",
      "text/plain": [
       "<Figure size 432x288 with 1 Axes>"
      ]
     },
     "metadata": {
      "needs_background": "light"
     },
     "output_type": "display_data"
    }
   ],
   "source": [
    "sns.scatterplot([i for i in range(19)] ,arr)"
   ]
  },
  {
   "cell_type": "code",
   "execution_count": 7,
   "metadata": {},
   "outputs": [
    {
     "name": "stdout",
     "output_type": "stream",
     "text": [
      "Minimum: 38.25\n",
      "Maximum: 68.25\n",
      "Q1: 49.5\n",
      "Q3: 57.0\n"
     ]
    }
   ],
   "source": [
    "print('Minimum:', left_bound_min)\n",
    "print('Maximum:', right_bound_max)\n",
    "print('Q1:', q1)\n",
    "print('Q3:', q3)"
   ]
  },
  {
   "cell_type": "code",
   "execution_count": 8,
   "metadata": {},
   "outputs": [],
   "source": [
    "outliers = arr[(arr >= right_bound_max) | (arr <= left_bound_min)]"
   ]
  },
  {
   "cell_type": "code",
   "execution_count": 9,
   "metadata": {},
   "outputs": [
    {
     "data": {
      "text/plain": [
       "0       1\n",
       "1       2\n",
       "2       3\n",
       "16    100\n",
       "17    101\n",
       "18    102\n",
       "dtype: int64"
      ]
     },
     "execution_count": 9,
     "metadata": {},
     "output_type": "execute_result"
    }
   ],
   "source": [
    "outliers"
   ]
  },
  {
   "cell_type": "markdown",
   "metadata": {},
   "source": [
    "### Exemplifying Real Examples"
   ]
  },
  {
   "cell_type": "code",
   "execution_count": 10,
   "metadata": {},
   "outputs": [],
   "source": [
    "df = pd.read_csv('IRIS.csv')"
   ]
  },
  {
   "cell_type": "code",
   "execution_count": 11,
   "metadata": {},
   "outputs": [],
   "source": [
    "df = df[df['species'] == 'Iris-setosa']"
   ]
  },
  {
   "cell_type": "code",
   "execution_count": 12,
   "metadata": {},
   "outputs": [],
   "source": [
    "petal_length = df['petal_length']"
   ]
  },
  {
   "cell_type": "code",
   "execution_count": 13,
   "metadata": {},
   "outputs": [
    {
     "data": {
      "text/plain": [
       "Text(0.5, 1.0, 'Box and Whisker Plot')"
      ]
     },
     "execution_count": 13,
     "metadata": {},
     "output_type": "execute_result"
    },
    {
     "data": {
      "image/png": "[encoded data removed]",
      "text/plain": [
       "<Figure size 432x288 with 1 Axes>"
      ]
     },
     "metadata": {
      "needs_background": "light"
     },
     "output_type": "display_data"
    }
   ],
   "source": [
    "fig, ax = plt.subplots()\n",
    "\n",
    "ax = sns.boxplot(petal_length)\n",
    "ax.set_title('Box and Whisker Plot')"
   ]
  },
  {
   "cell_type": "code",
   "execution_count": 14,
   "metadata": {},
   "outputs": [],
   "source": [
    "# 25th percentile and 75th percentile\n",
    "q1 = petal_length.quantile(q= 0.25)\n",
    "q3 = petal_length.quantile(q= 0.75)\n",
    "\n",
    "# Interquartile Range\n",
    "iqr = q3 - q1\n",
    "\n",
    "# Left and Right Bounds (Min/Max)\n",
    "left_bound_min = q1 - 1.5*iqr\n",
    "right_bound_max = q3 + 1.5*iqr"
   ]
  },
  {
   "cell_type": "code",
   "execution_count": 15,
   "metadata": {},
   "outputs": [
    {
     "name": "stdout",
     "output_type": "stream",
     "text": [
      "Minimum: 1.1374999999999995\n",
      "Maximum: 1.8375000000000006\n",
      "Q1: 1.4\n",
      "Q3: 1.5750000000000002\n"
     ]
    }
   ],
   "source": [
    "print('Minimum:', left_bound_min)\n",
    "print('Maximum:', right_bound_max)\n",
    "print('Q1:', q1)\n",
    "print('Q3:', q3)"
   ]
  },
  {
   "cell_type": "code",
   "execution_count": 16,
   "metadata": {},
   "outputs": [],
   "source": [
    "outliers = petal_length[(petal_length >= right_bound_max) | (petal_length <= left_bound_min)]"
   ]
  },
  {
   "cell_type": "code",
   "execution_count": 17,
   "metadata": {},
   "outputs": [
    {
     "data": {
      "text/plain": [
       "13    1.1\n",
       "22    1.0\n",
       "24    1.9\n",
       "44    1.9\n",
       "Name: petal_length, dtype: float64"
      ]
     },
     "execution_count": 17,
     "metadata": {},
     "output_type": "execute_result"
    }
   ],
   "source": [
    "outliers"
   ]
  },
  {
   "cell_type": "code",
   "execution_count": 18,
   "metadata": {},
   "outputs": [],
   "source": [
    "outliers = list(outliers.index)"
   ]
  },
  {
   "cell_type": "code",
   "execution_count": 19,
   "metadata": {},
   "outputs": [],
   "source": [
    "df.drop(outliers, inplace= True)"
   ]
  }
 ],
 "metadata": {
  "kernelspec": {
   "display_name": "Python 3",
   "language": "python",
   "name": "python3"
  },
  "language_info": {
   "codemirror_mode": {
    "name": "ipython",
    "version": 3
   },
   "file_extension": ".py",
   "mimetype": "text/x-python",
   "name": "python",
   "nbconvert_exporter": "python",
   "pygments_lexer": "ipython3",
   "version": "3.7.4"
  }
 },
 "nbformat": 4,
 "nbformat_minor": 2
}
